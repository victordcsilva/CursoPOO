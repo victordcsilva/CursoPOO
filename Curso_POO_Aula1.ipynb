{
 "cells": [
  {
   "cell_type": "markdown",
   "metadata": {},
   "source": [
    "# Programação Orientada a Objetos\n",
    "\n",
    "Ao final desta aula, você será capaz de:\n",
    "- Diferenciar Programação Estruturada e POO.\n",
    "- Conceituar Classes e Objetos.\n",
    "- Conceituar Atributos e Métodos.\n",
    "- Entender a realidade sob o ponto de vista da POO.\n",
    "\n",
    "\n",
    "A Programação Orientada a Objetos (POO) é um paradigma de programação de computadores que usa os conceitos de Objetos e Classes como elementos centrais para representar e processar dados usados nos programas.\n",
    "\n",
    "E é dessa maneira que iremos aprender a ver o mundo em nossa volta. O mundo dos objetos!\n",
    "\n",
    "De acordo com dados bibliográficos, os conceitos da programação orientada a objetos (POO) surgiram no final da década de 1960, quando a linguagem Simula-68 introduziu os conceitos de objetos e troca de mensagens para construção de programas.\n",
    "\n",
    "Tais conceitos foram posteriormente amadurecidos e aprimorados durante a década de 1970 pela linguagem de programação Smalltalk, desenvolvida no laboratório de pesquisa da Xerox, nos Estados Unidos. Entretanto, a popularização da POO só se deu ao longo da década de 80 e 90, com as linguagens C++ e Java.\n",
    "\n",
    "Na programação OO, um programa é visto como um conjunto de objetos que se comunicam através de mensagens. Cada objeto mantém dados internos, chamados de atributos. Dessa forma, um sistema (programa de computador) desenvolvido usando a POO possui objetos que colaboram entre si, executando tarefas específicas em busca de um objetivo comum.\n",
    "![fig1](https://i.ibb.co/JqnCwrN/image.png)\n",
    "\n",
    "A Programação Orientada a Objetos está sedimentada sobre quatro pilares derivados do princípio da abstração, são eles: **Encapsulamento**, **Herança**, **Composição** e **Polimorfismo.**\n",
    "\n",
    "O Princípio da abstração é a nossa capacidade de abstrair a complexidade de um sistema e se concentrar em apenas partes desse sistema, que é o tema central de nosso estudo ou foco em um dado momento.\n",
    "\n",
    "Por exemplo: quando um médico torna-se um especialista em algum órgão do nosso corpo (exemplo, o coração), ele abstrai sem desconsiderar as influências dos outros órgãos e foca apenas sua atenção nesse órgão. Outro exemplo: quando um engenheiro civil projeta um edifício, ele abstrai a complexidade como um todo e planeja seu projeto em partes: sistema elétrico, hidráulico, estrutural,etc.\n",
    "\n",
    "### Objetos\n",
    "\n",
    "Na programação OO, objetos são usados para representar entidades do mundo real ou computacional. Ou seja, os objetos são usados para representar aqueles elementos e abstrações que fazem parte da solução do programa que estamos desenvolvendo.\n",
    "\n",
    "Se observarmos ao nosso redor, veremos várias entidades ou abstrações as quais podem ser representadas como objetos no nosso programa. As pessoas e seus carros podem ser vistas como objetos.\n",
    "![fig2](https://i.ibb.co/5cXm7xf/image.png)\n",
    "\n",
    "Os objetos possuem características pelas quais os identificamos e finalidades para as quais os utilizamos. Essas características são tipicamente chamadas de atributos, no linguajar da programação OO. Cada objeto Pessoa, por exemplo, possui um RG, um nome, uma data de nascimento, etc. Já os objetos do tipo Carro possuem um tipo, uma cor, uma quantidade de portas. A Figura acima mostra os diferentes atributos que os objetos “Camila” e “Ferrari” possuem, assim como os valores que estão assumindo.\n",
    "\n",
    "Finalmente, objetos podem também ter comportamentos associados. Objetos do tipo Pessoa, por exemplo, podem andar, correr ou dirigir carros. Já os objetos do tipo Carro podem ter os seguintes comportamentos: ligar, desligar, acelerar, frear. A Figura acima também ilustra os comportamentos que objetos Pessoa e Carro podem ter.\n",
    "\n",
    "Assim, na POO os objetos possuem características e comportamentos. As características também podem ser chamadas de dados ou atributos. Enquanto os comportamentos também podem ser chamados de operações ou métodos.\n",
    "\n",
    "### Classes\n",
    "\n",
    "Agora que você aprendeu o conceito de Objetos em programação OO, podemos passar para outro ponto da nossa conversa. Podemos dizer que no fundo todos nós pensamos e organizamos o mundo segundo a nossa visão das características e finalidades das coisas, logo pensamos o mundo Orientado a Objetos. É muito comum (e com muita frequência o fazemos) criar grupos de objetos com base nas suas características e comportamento. Se pensarmos no universo de objetos Carro, por exemplo, vamos perceber que todos eles sempre possuem os atributos tipo, cor e número de portas. O mesmo vale para o universo de objetos Pessoa, que sempre vão possuir um nome, uma data de nascimento e, possivelmente, um RG.\n",
    "\n",
    "A modelagem e programação de um conjunto de objetos que possuem características (atributos) e comportamentos (métodos) comuns é feita na POO usando o conceito de Classe. Cada classe funciona no fundo como um molde para a criação de um dado objeto. Os objetos são vistos como representações concretas (instâncias) das classes. A Figura abaixo, por exemplo, ilustra uma classe que representa os objetos Carro. Como pode ser observado, a classe define que objetos devem ter tipo, cor, placa e número de portas, mas não indica explicitamente quais são seus valores.\n",
    "\n",
    "![fig3](https://i.ibb.co/N3tSGZv/image.png)\n",
    "\n",
    "A Figura acima mostra como a partir da classe (entidade abstrata) podemos criar vários objetos diferentes (entidades concretas). Dois diferentes carros foram criados tomando como base a estrutura da classe. Outros objetos carro podem ser criados usando a classe Carro como molde.\n",
    "\n",
    "Como vimos, diferentes classes (e seus respectivos objetos) podem ser criados em POO, para facilitar a programação do sistema. Na prática, não existem limites ou restrições sobre o que você pode modelar e implementar. A seguir, apresentamos alguns exemplos de classes/objetos para representação de diferentes abstrações em sistemas:\n",
    "\n",
    "- Objetos físicos (um livro, uma mercadoria, uma nota fiscal);\n",
    "- Funções de pessoas para os sistemas (cliente, vendedor);\n",
    "- Eventos (uma compra, um telefonema);\n",
    "- Lugares (loja matriz, revenda norte).\n",
    "\n",
    "Nesta aula, você estudou o que é a Programação Orientada a Objetos e o que a diferencia da Programação Estruturada. Conhecemos os conceitos de Classes, Objetos, Atributos e Métodos. Além disso, você começou a observar o mundo a nossa volta sob o ponto de vista da Programação Orientada a Objetos.\n"
   ]
  },
  {
   "cell_type": "code",
   "execution_count": null,
   "metadata": {},
   "outputs": [],
   "source": []
  }
 ],
 "metadata": {
  "kernelspec": {
   "display_name": "Python 3",
   "language": "python",
   "name": "python3"
  },
  "language_info": {
   "codemirror_mode": {
    "name": "ipython",
    "version": 3
   },
   "file_extension": ".py",
   "mimetype": "text/x-python",
   "name": "python",
   "nbconvert_exporter": "python",
   "pygments_lexer": "ipython3",
   "version": "3.7.6"
  }
 },
 "nbformat": 4,
 "nbformat_minor": 4
}
